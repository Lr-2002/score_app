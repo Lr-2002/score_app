{
 "cells": [
  {
   "cell_type": "code",
   "execution_count": 2,
   "outputs": [],
   "source": [
    "import pandas as pd"
   ],
   "metadata": {
    "collapsed": false,
    "pycharm": {
     "name": "#%%\n"
    }
   }
  },
  {
   "cell_type": "code",
   "execution_count": 16,
   "outputs": [
    {
     "data": {
      "text/plain": "   name  sc  score  reason  mod\n0    a1   1      0    没写作业    1\n1    a2   1      0    没写作业    1\n2    a3   1      0    没写作业    1\n3    a4   1      0    没写作业    1\n4    a5   1      0    没写作业    0\n5    a6   1      0    没写作业    0\n6    a7   1      0    没写作业    0\n7    a8   1      0    没写作业    0\n8    a9   1      0    没写作业    0\n9   a10   1      0    没写作业    0\n10  a11   1      0    没写作业    0\n11  a12   1      0    没写作业    0\n12  a13   1      0    没写作业    0\n13  a14   1      0    没写作业    0\n14  a15   1      0    没写作业    0\n15  a16   1      0    没写作业    0\n16  a17   1      0    没写作业    0\n17  a18   1      0    没写作业    0\n18  a19   1      0    没写作业    0\n19  a20   1      0    没写作业    0\n20  a21   1      0    没写作业    0\n21  a22   1      0    没写作业    0\n22  a23   1      0    没写作业    0\n23  a24   1      0    没写作业    0\n24  a25   1      0    没写作业    0\n25  a26   1      0    没写作业    0\n26  a27   1      0  作业写的太差    0\n27  a28   1      0    没写作业    0\n28  a29  12      0    没写作业    0\n29  a30   1      0    没写作业    0",
      "text/html": "<div>\n<style scoped>\n    .dataframe tbody tr th:only-of-type {\n        vertical-align: middle;\n    }\n\n    .dataframe tbody tr th {\n        vertical-align: top;\n    }\n\n    .dataframe thead th {\n        text-align: right;\n    }\n</style>\n<table border=\"1\" class=\"dataframe\">\n  <thead>\n    <tr style=\"text-align: right;\">\n      <th></th>\n      <th>name</th>\n      <th>sc</th>\n      <th>score</th>\n      <th>reason</th>\n      <th>mod</th>\n    </tr>\n  </thead>\n  <tbody>\n    <tr>\n      <th>0</th>\n      <td>a1</td>\n      <td>1</td>\n      <td>0</td>\n      <td>没写作业</td>\n      <td>1</td>\n    </tr>\n    <tr>\n      <th>1</th>\n      <td>a2</td>\n      <td>1</td>\n      <td>0</td>\n      <td>没写作业</td>\n      <td>1</td>\n    </tr>\n    <tr>\n      <th>2</th>\n      <td>a3</td>\n      <td>1</td>\n      <td>0</td>\n      <td>没写作业</td>\n      <td>1</td>\n    </tr>\n    <tr>\n      <th>3</th>\n      <td>a4</td>\n      <td>1</td>\n      <td>0</td>\n      <td>没写作业</td>\n      <td>1</td>\n    </tr>\n    <tr>\n      <th>4</th>\n      <td>a5</td>\n      <td>1</td>\n      <td>0</td>\n      <td>没写作业</td>\n      <td>0</td>\n    </tr>\n    <tr>\n      <th>5</th>\n      <td>a6</td>\n      <td>1</td>\n      <td>0</td>\n      <td>没写作业</td>\n      <td>0</td>\n    </tr>\n    <tr>\n      <th>6</th>\n      <td>a7</td>\n      <td>1</td>\n      <td>0</td>\n      <td>没写作业</td>\n      <td>0</td>\n    </tr>\n    <tr>\n      <th>7</th>\n      <td>a8</td>\n      <td>1</td>\n      <td>0</td>\n      <td>没写作业</td>\n      <td>0</td>\n    </tr>\n    <tr>\n      <th>8</th>\n      <td>a9</td>\n      <td>1</td>\n      <td>0</td>\n      <td>没写作业</td>\n      <td>0</td>\n    </tr>\n    <tr>\n      <th>9</th>\n      <td>a10</td>\n      <td>1</td>\n      <td>0</td>\n      <td>没写作业</td>\n      <td>0</td>\n    </tr>\n    <tr>\n      <th>10</th>\n      <td>a11</td>\n      <td>1</td>\n      <td>0</td>\n      <td>没写作业</td>\n      <td>0</td>\n    </tr>\n    <tr>\n      <th>11</th>\n      <td>a12</td>\n      <td>1</td>\n      <td>0</td>\n      <td>没写作业</td>\n      <td>0</td>\n    </tr>\n    <tr>\n      <th>12</th>\n      <td>a13</td>\n      <td>1</td>\n      <td>0</td>\n      <td>没写作业</td>\n      <td>0</td>\n    </tr>\n    <tr>\n      <th>13</th>\n      <td>a14</td>\n      <td>1</td>\n      <td>0</td>\n      <td>没写作业</td>\n      <td>0</td>\n    </tr>\n    <tr>\n      <th>14</th>\n      <td>a15</td>\n      <td>1</td>\n      <td>0</td>\n      <td>没写作业</td>\n      <td>0</td>\n    </tr>\n    <tr>\n      <th>15</th>\n      <td>a16</td>\n      <td>1</td>\n      <td>0</td>\n      <td>没写作业</td>\n      <td>0</td>\n    </tr>\n    <tr>\n      <th>16</th>\n      <td>a17</td>\n      <td>1</td>\n      <td>0</td>\n      <td>没写作业</td>\n      <td>0</td>\n    </tr>\n    <tr>\n      <th>17</th>\n      <td>a18</td>\n      <td>1</td>\n      <td>0</td>\n      <td>没写作业</td>\n      <td>0</td>\n    </tr>\n    <tr>\n      <th>18</th>\n      <td>a19</td>\n      <td>1</td>\n      <td>0</td>\n      <td>没写作业</td>\n      <td>0</td>\n    </tr>\n    <tr>\n      <th>19</th>\n      <td>a20</td>\n      <td>1</td>\n      <td>0</td>\n      <td>没写作业</td>\n      <td>0</td>\n    </tr>\n    <tr>\n      <th>20</th>\n      <td>a21</td>\n      <td>1</td>\n      <td>0</td>\n      <td>没写作业</td>\n      <td>0</td>\n    </tr>\n    <tr>\n      <th>21</th>\n      <td>a22</td>\n      <td>1</td>\n      <td>0</td>\n      <td>没写作业</td>\n      <td>0</td>\n    </tr>\n    <tr>\n      <th>22</th>\n      <td>a23</td>\n      <td>1</td>\n      <td>0</td>\n      <td>没写作业</td>\n      <td>0</td>\n    </tr>\n    <tr>\n      <th>23</th>\n      <td>a24</td>\n      <td>1</td>\n      <td>0</td>\n      <td>没写作业</td>\n      <td>0</td>\n    </tr>\n    <tr>\n      <th>24</th>\n      <td>a25</td>\n      <td>1</td>\n      <td>0</td>\n      <td>没写作业</td>\n      <td>0</td>\n    </tr>\n    <tr>\n      <th>25</th>\n      <td>a26</td>\n      <td>1</td>\n      <td>0</td>\n      <td>没写作业</td>\n      <td>0</td>\n    </tr>\n    <tr>\n      <th>26</th>\n      <td>a27</td>\n      <td>1</td>\n      <td>0</td>\n      <td>作业写的太差</td>\n      <td>0</td>\n    </tr>\n    <tr>\n      <th>27</th>\n      <td>a28</td>\n      <td>1</td>\n      <td>0</td>\n      <td>没写作业</td>\n      <td>0</td>\n    </tr>\n    <tr>\n      <th>28</th>\n      <td>a29</td>\n      <td>12</td>\n      <td>0</td>\n      <td>没写作业</td>\n      <td>0</td>\n    </tr>\n    <tr>\n      <th>29</th>\n      <td>a30</td>\n      <td>1</td>\n      <td>0</td>\n      <td>没写作业</td>\n      <td>0</td>\n    </tr>\n  </tbody>\n</table>\n</div>"
     },
     "execution_count": 16,
     "metadata": {},
     "output_type": "execute_result"
    }
   ],
   "source": [
    "df = pd.read_excel('././user.xlsx')\n",
    "df"
   ],
   "metadata": {
    "collapsed": false,
    "pycharm": {
     "name": "#%%\n"
    }
   }
  },
  {
   "cell_type": "code",
   "execution_count": 17,
   "outputs": [
    {
     "data": {
      "text/plain": "   name  sc  score  reason  mod\n0    a1   1      0    没写作业    1\n1    a2   1      0    没写作业    1\n2    a3   1      0    没写作业    1\n3    a4   1      0    没写作业    1\n4    a5   1      0    没写作业    0\n5    a6   1      0    没写作业    0\n6    a7   1      0    没写作业    0\n7    a8   1      0    没写作业    0\n8    a9   1      0    没写作业    0\n9   a10   1      0    没写作业    0\n10  a11   1      0    没写作业    0\n11  a12   1      0    没写作业    0\n12  a13   1      0    没写作业    0\n13  a14   1      0    没写作业    0\n14  a15   1      0    没写作业    0\n15  a16   1      0    没写作业    0\n16  a17   1      0    没写作业    0\n17  a18   1      0    没写作业    0\n18  a19   1      0    没写作业    0\n19  a20   1      0    没写作业    0\n20  a21   1      0    没写作业    0\n21  a22   1      0    没写作业    0\n22  a23   1      0    没写作业    0\n23  a24   1      0    没写作业    0\n24  a25   1      0    没写作业    0\n25  a26   1      0    没写作业    0\n26  a27   1      0  作业写的太差    0\n27  a28   1      0    没写作业    0\n28  a29  12      0    没写作业    0\n29  a30   1      0    没写作业    0",
      "text/html": "<div>\n<style scoped>\n    .dataframe tbody tr th:only-of-type {\n        vertical-align: middle;\n    }\n\n    .dataframe tbody tr th {\n        vertical-align: top;\n    }\n\n    .dataframe thead th {\n        text-align: right;\n    }\n</style>\n<table border=\"1\" class=\"dataframe\">\n  <thead>\n    <tr style=\"text-align: right;\">\n      <th></th>\n      <th>name</th>\n      <th>sc</th>\n      <th>score</th>\n      <th>reason</th>\n      <th>mod</th>\n    </tr>\n  </thead>\n  <tbody>\n    <tr>\n      <th>0</th>\n      <td>a1</td>\n      <td>1</td>\n      <td>0</td>\n      <td>没写作业</td>\n      <td>1</td>\n    </tr>\n    <tr>\n      <th>1</th>\n      <td>a2</td>\n      <td>1</td>\n      <td>0</td>\n      <td>没写作业</td>\n      <td>1</td>\n    </tr>\n    <tr>\n      <th>2</th>\n      <td>a3</td>\n      <td>1</td>\n      <td>0</td>\n      <td>没写作业</td>\n      <td>1</td>\n    </tr>\n    <tr>\n      <th>3</th>\n      <td>a4</td>\n      <td>1</td>\n      <td>0</td>\n      <td>没写作业</td>\n      <td>1</td>\n    </tr>\n    <tr>\n      <th>4</th>\n      <td>a5</td>\n      <td>1</td>\n      <td>0</td>\n      <td>没写作业</td>\n      <td>0</td>\n    </tr>\n    <tr>\n      <th>5</th>\n      <td>a6</td>\n      <td>1</td>\n      <td>0</td>\n      <td>没写作业</td>\n      <td>0</td>\n    </tr>\n    <tr>\n      <th>6</th>\n      <td>a7</td>\n      <td>1</td>\n      <td>0</td>\n      <td>没写作业</td>\n      <td>0</td>\n    </tr>\n    <tr>\n      <th>7</th>\n      <td>a8</td>\n      <td>1</td>\n      <td>0</td>\n      <td>没写作业</td>\n      <td>0</td>\n    </tr>\n    <tr>\n      <th>8</th>\n      <td>a9</td>\n      <td>1</td>\n      <td>0</td>\n      <td>没写作业</td>\n      <td>0</td>\n    </tr>\n    <tr>\n      <th>9</th>\n      <td>a10</td>\n      <td>1</td>\n      <td>0</td>\n      <td>没写作业</td>\n      <td>0</td>\n    </tr>\n    <tr>\n      <th>10</th>\n      <td>a11</td>\n      <td>1</td>\n      <td>0</td>\n      <td>没写作业</td>\n      <td>0</td>\n    </tr>\n    <tr>\n      <th>11</th>\n      <td>a12</td>\n      <td>1</td>\n      <td>0</td>\n      <td>没写作业</td>\n      <td>0</td>\n    </tr>\n    <tr>\n      <th>12</th>\n      <td>a13</td>\n      <td>1</td>\n      <td>0</td>\n      <td>没写作业</td>\n      <td>0</td>\n    </tr>\n    <tr>\n      <th>13</th>\n      <td>a14</td>\n      <td>1</td>\n      <td>0</td>\n      <td>没写作业</td>\n      <td>0</td>\n    </tr>\n    <tr>\n      <th>14</th>\n      <td>a15</td>\n      <td>1</td>\n      <td>0</td>\n      <td>没写作业</td>\n      <td>0</td>\n    </tr>\n    <tr>\n      <th>15</th>\n      <td>a16</td>\n      <td>1</td>\n      <td>0</td>\n      <td>没写作业</td>\n      <td>0</td>\n    </tr>\n    <tr>\n      <th>16</th>\n      <td>a17</td>\n      <td>1</td>\n      <td>0</td>\n      <td>没写作业</td>\n      <td>0</td>\n    </tr>\n    <tr>\n      <th>17</th>\n      <td>a18</td>\n      <td>1</td>\n      <td>0</td>\n      <td>没写作业</td>\n      <td>0</td>\n    </tr>\n    <tr>\n      <th>18</th>\n      <td>a19</td>\n      <td>1</td>\n      <td>0</td>\n      <td>没写作业</td>\n      <td>0</td>\n    </tr>\n    <tr>\n      <th>19</th>\n      <td>a20</td>\n      <td>1</td>\n      <td>0</td>\n      <td>没写作业</td>\n      <td>0</td>\n    </tr>\n    <tr>\n      <th>20</th>\n      <td>a21</td>\n      <td>1</td>\n      <td>0</td>\n      <td>没写作业</td>\n      <td>0</td>\n    </tr>\n    <tr>\n      <th>21</th>\n      <td>a22</td>\n      <td>1</td>\n      <td>0</td>\n      <td>没写作业</td>\n      <td>0</td>\n    </tr>\n    <tr>\n      <th>22</th>\n      <td>a23</td>\n      <td>1</td>\n      <td>0</td>\n      <td>没写作业</td>\n      <td>0</td>\n    </tr>\n    <tr>\n      <th>23</th>\n      <td>a24</td>\n      <td>1</td>\n      <td>0</td>\n      <td>没写作业</td>\n      <td>0</td>\n    </tr>\n    <tr>\n      <th>24</th>\n      <td>a25</td>\n      <td>1</td>\n      <td>0</td>\n      <td>没写作业</td>\n      <td>0</td>\n    </tr>\n    <tr>\n      <th>25</th>\n      <td>a26</td>\n      <td>1</td>\n      <td>0</td>\n      <td>没写作业</td>\n      <td>0</td>\n    </tr>\n    <tr>\n      <th>26</th>\n      <td>a27</td>\n      <td>1</td>\n      <td>0</td>\n      <td>作业写的太差</td>\n      <td>0</td>\n    </tr>\n    <tr>\n      <th>27</th>\n      <td>a28</td>\n      <td>1</td>\n      <td>0</td>\n      <td>没写作业</td>\n      <td>0</td>\n    </tr>\n    <tr>\n      <th>28</th>\n      <td>a29</td>\n      <td>12</td>\n      <td>0</td>\n      <td>没写作业</td>\n      <td>0</td>\n    </tr>\n    <tr>\n      <th>29</th>\n      <td>a30</td>\n      <td>1</td>\n      <td>0</td>\n      <td>没写作业</td>\n      <td>0</td>\n    </tr>\n  </tbody>\n</table>\n</div>"
     },
     "execution_count": 17,
     "metadata": {},
     "output_type": "execute_result"
    }
   ],
   "source": [
    "tree = df.set_index('name')\n",
    "df"
   ],
   "metadata": {
    "collapsed": false,
    "pycharm": {
     "name": "#%%\n"
    }
   }
  },
  {
   "cell_type": "code",
   "execution_count": 9,
   "outputs": [
    {
     "data": {
      "text/plain": "      sc  score  reason  mod\nname                        \na1     1      0    没写作业    1\na2     1      0    没写作业    1\na3     1      0    没写作业    1\na4     1      0    没写作业    1\na5     1      0    没写作业    0\na6     1      0    没写作业    0\na7     1      0    没写作业    0\na8     1      0    没写作业    0\na9     1      0    没写作业    0\na10    1      0    没写作业    0\na11    1      0    没写作业    0\na12    1      0    没写作业    0\na13    1      0    没写作业    0\na14    1      0    没写作业    0\na15    1      0    没写作业    0\na16    1      0    没写作业    0\na17    1      0    没写作业    0\na18    1      0    没写作业    0\na19    1      0    没写作业    0\na20    1      0    没写作业    0\na21    1      0    没写作业    0\na22    1      0    没写作业    0\na23    1      0    没写作业    0\na24    1      0    没写作业    0\na25    1      0    没写作业    0\na26    1      0    没写作业    0\na27    1      0  作业写的太差    0\na28    1      0    没写作业    0\na29   12      0    没写作业    0\na30    1      0    没写作业    0",
      "text/html": "<div>\n<style scoped>\n    .dataframe tbody tr th:only-of-type {\n        vertical-align: middle;\n    }\n\n    .dataframe tbody tr th {\n        vertical-align: top;\n    }\n\n    .dataframe thead th {\n        text-align: right;\n    }\n</style>\n<table border=\"1\" class=\"dataframe\">\n  <thead>\n    <tr style=\"text-align: right;\">\n      <th></th>\n      <th>sc</th>\n      <th>score</th>\n      <th>reason</th>\n      <th>mod</th>\n    </tr>\n    <tr>\n      <th>name</th>\n      <th></th>\n      <th></th>\n      <th></th>\n      <th></th>\n    </tr>\n  </thead>\n  <tbody>\n    <tr>\n      <th>a1</th>\n      <td>1</td>\n      <td>0</td>\n      <td>没写作业</td>\n      <td>1</td>\n    </tr>\n    <tr>\n      <th>a2</th>\n      <td>1</td>\n      <td>0</td>\n      <td>没写作业</td>\n      <td>1</td>\n    </tr>\n    <tr>\n      <th>a3</th>\n      <td>1</td>\n      <td>0</td>\n      <td>没写作业</td>\n      <td>1</td>\n    </tr>\n    <tr>\n      <th>a4</th>\n      <td>1</td>\n      <td>0</td>\n      <td>没写作业</td>\n      <td>1</td>\n    </tr>\n    <tr>\n      <th>a5</th>\n      <td>1</td>\n      <td>0</td>\n      <td>没写作业</td>\n      <td>0</td>\n    </tr>\n    <tr>\n      <th>a6</th>\n      <td>1</td>\n      <td>0</td>\n      <td>没写作业</td>\n      <td>0</td>\n    </tr>\n    <tr>\n      <th>a7</th>\n      <td>1</td>\n      <td>0</td>\n      <td>没写作业</td>\n      <td>0</td>\n    </tr>\n    <tr>\n      <th>a8</th>\n      <td>1</td>\n      <td>0</td>\n      <td>没写作业</td>\n      <td>0</td>\n    </tr>\n    <tr>\n      <th>a9</th>\n      <td>1</td>\n      <td>0</td>\n      <td>没写作业</td>\n      <td>0</td>\n    </tr>\n    <tr>\n      <th>a10</th>\n      <td>1</td>\n      <td>0</td>\n      <td>没写作业</td>\n      <td>0</td>\n    </tr>\n    <tr>\n      <th>a11</th>\n      <td>1</td>\n      <td>0</td>\n      <td>没写作业</td>\n      <td>0</td>\n    </tr>\n    <tr>\n      <th>a12</th>\n      <td>1</td>\n      <td>0</td>\n      <td>没写作业</td>\n      <td>0</td>\n    </tr>\n    <tr>\n      <th>a13</th>\n      <td>1</td>\n      <td>0</td>\n      <td>没写作业</td>\n      <td>0</td>\n    </tr>\n    <tr>\n      <th>a14</th>\n      <td>1</td>\n      <td>0</td>\n      <td>没写作业</td>\n      <td>0</td>\n    </tr>\n    <tr>\n      <th>a15</th>\n      <td>1</td>\n      <td>0</td>\n      <td>没写作业</td>\n      <td>0</td>\n    </tr>\n    <tr>\n      <th>a16</th>\n      <td>1</td>\n      <td>0</td>\n      <td>没写作业</td>\n      <td>0</td>\n    </tr>\n    <tr>\n      <th>a17</th>\n      <td>1</td>\n      <td>0</td>\n      <td>没写作业</td>\n      <td>0</td>\n    </tr>\n    <tr>\n      <th>a18</th>\n      <td>1</td>\n      <td>0</td>\n      <td>没写作业</td>\n      <td>0</td>\n    </tr>\n    <tr>\n      <th>a19</th>\n      <td>1</td>\n      <td>0</td>\n      <td>没写作业</td>\n      <td>0</td>\n    </tr>\n    <tr>\n      <th>a20</th>\n      <td>1</td>\n      <td>0</td>\n      <td>没写作业</td>\n      <td>0</td>\n    </tr>\n    <tr>\n      <th>a21</th>\n      <td>1</td>\n      <td>0</td>\n      <td>没写作业</td>\n      <td>0</td>\n    </tr>\n    <tr>\n      <th>a22</th>\n      <td>1</td>\n      <td>0</td>\n      <td>没写作业</td>\n      <td>0</td>\n    </tr>\n    <tr>\n      <th>a23</th>\n      <td>1</td>\n      <td>0</td>\n      <td>没写作业</td>\n      <td>0</td>\n    </tr>\n    <tr>\n      <th>a24</th>\n      <td>1</td>\n      <td>0</td>\n      <td>没写作业</td>\n      <td>0</td>\n    </tr>\n    <tr>\n      <th>a25</th>\n      <td>1</td>\n      <td>0</td>\n      <td>没写作业</td>\n      <td>0</td>\n    </tr>\n    <tr>\n      <th>a26</th>\n      <td>1</td>\n      <td>0</td>\n      <td>没写作业</td>\n      <td>0</td>\n    </tr>\n    <tr>\n      <th>a27</th>\n      <td>1</td>\n      <td>0</td>\n      <td>作业写的太差</td>\n      <td>0</td>\n    </tr>\n    <tr>\n      <th>a28</th>\n      <td>1</td>\n      <td>0</td>\n      <td>没写作业</td>\n      <td>0</td>\n    </tr>\n    <tr>\n      <th>a29</th>\n      <td>12</td>\n      <td>0</td>\n      <td>没写作业</td>\n      <td>0</td>\n    </tr>\n    <tr>\n      <th>a30</th>\n      <td>1</td>\n      <td>0</td>\n      <td>没写作业</td>\n      <td>0</td>\n    </tr>\n  </tbody>\n</table>\n</div>"
     },
     "execution_count": 9,
     "metadata": {},
     "output_type": "execute_result"
    }
   ],
   "source": [
    "tree"
   ],
   "metadata": {
    "collapsed": false,
    "pycharm": {
     "name": "#%%\n"
    }
   }
  },
  {
   "cell_type": "code",
   "execution_count": 24,
   "outputs": [
    {
     "name": "stdout",
     "output_type": "stream",
     "text": [
      "   name  sc  score  reason  mod\n",
      "0    a1   1      0    没写作业    1\n",
      "1    a2   1      0    没写作业    1\n",
      "2    a3   1      0    没写作业    1\n",
      "3    a4   1      0    没写作业    1\n",
      "4    a5   1      0    没写作业    0\n",
      "5    a6   1      0    没写作业    0\n",
      "6    a7   1      0    没写作业    0\n",
      "7    a8   1      0    没写作业    0\n",
      "8    a9   1      0    没写作业    0\n",
      "9   a10   1      0    没写作业    0\n",
      "10  a11   1      0    没写作业    0\n",
      "11  a12   1      0    没写作业    0\n",
      "12  a13   1      0    没写作业    0\n",
      "13  a14   1      0    没写作业    0\n",
      "14  a15   1      0    没写作业    0\n",
      "15  a16   1      0    没写作业    0\n",
      "16  a17   1      0    没写作业    0\n",
      "17  a18   1      0    没写作业    0\n",
      "18  a19   1      0    没写作业    0\n",
      "19  a20   1      0    没写作业    0\n",
      "20  a21   1      0    没写作业    0\n",
      "21  a22   1      0    没写作业    0\n",
      "22  a23   1      0    没写作业    0\n",
      "23  a24   1      0    没写作业    0\n",
      "24  a25   1      0    没写作业    0\n",
      "25  a26   1      0    没写作业    0\n",
      "26  a27   1      0  作业写的太差    0\n",
      "27  a28   1      0    没写作业    0\n",
      "28  a29  12      0    没写作业    0\n",
      "29  a30   1      0    没写作业    0\n"
     ]
    }
   ],
   "source": [
    "for i in range(df.shape[0]):\n",
    "    for j in df.keys():\n",
    "        if j =='name':\n",
    "            continue\n",
    "        else:\n",
    "            df.loc[i,j] =  tree.loc[df.loc[i,'name'], j]\n"
   ],
   "metadata": {
    "collapsed": false,
    "pycharm": {
     "name": "#%%\n"
    }
   }
  }
 ],
 "metadata": {
  "kernelspec": {
   "display_name": "Python 3",
   "language": "python",
   "name": "python3"
  },
  "language_info": {
   "codemirror_mode": {
    "name": "ipython",
    "version": 2
   },
   "file_extension": ".py",
   "mimetype": "text/x-python",
   "name": "python",
   "nbconvert_exporter": "python",
   "pygments_lexer": "ipython2",
   "version": "2.7.6"
  }
 },
 "nbformat": 4,
 "nbformat_minor": 0
}